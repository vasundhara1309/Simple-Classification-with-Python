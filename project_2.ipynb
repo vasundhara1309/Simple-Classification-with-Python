{
  "nbformat": 4,
  "nbformat_minor": 0,
  "metadata": {
    "colab": {
      "name": "mini project 2.ipynb",
      "provenance": []
    },
    "kernelspec": {
      "name": "python3",
      "display_name": "Python 3"
    },
    "language_info": {
      "name": "python"
    }
  },
  "cells": [
    {
      "cell_type": "code",
      "metadata": {
        "colab": {
          "base_uri": "https://localhost:8080/",
          "height": 128
        },
        "id": "tYg6uADxo8em",
        "outputId": "66aff816-7fe4-4f57-e7d5-1fedc26d7835"
      },
      "source": [
        "import os, cv2, itertools\n",
        "import numpy as np\n",
        "import pandas as pd\n",
        "\n",
        "import matplotlib.pyplot as plt\n",
        "%matplotlib inline\n",
        "\n",
        "!pip install np_utils\n",
        "\n",
        "from keras.utils.np_utils import to_categorical\n",
        "\n",
        "from keras.models import Sequential\n",
        "from keras.layers import Conv2D\n",
        "from keras.layers import MaxPooling2D\n",
        "from keras.layers import Flatten\n",
        "from keras.layers import Dense\n",
        "from keras.layers import Dropout\n",
        "\n",
        "from sklearn.utils import shuffle\n",
        "\n",
        "!pip install sklearn\n",
        "import sklearn\n",
        "from sklearn.model_selection import train_test_split\n",
        "TRAIN_DIR = './train/'\n",
        "TEST_DIR = './test1/'\n",
        "\n",
        "ROWS = 64\n",
        "COLS = 64\n",
        "CHANNELS = 3\n",
        "rain_images = [TRAIN_DIR+i for i in os.listdir(TRAIN_DIR)]\n",
        "test_images = [TEST_DIR+i for i in os.listdir(TEST_DIR)]\n",
        "def read_image(file_path):\n",
        "#print(file_path)\n",
        "img = cv2.imread(file_path, cv2.IMREAD_COLOR)\n",
        "#print(img)\n",
        "return cv2.resize(img, (ROWS, COLS), interpolation=cv2.INTER_CUBIC)\n",
        "def prep_data(images):\n",
        "m = len(images)\n",
        "  n_x = ROWS*COLS*CHANNELS\n",
        "  \n",
        "  X = np.ndarray((m,ROWS,COLS,CHANNELS), dtype=np.uint8)\n",
        "  y = np.zeros((m,1))\n",
        "  print(\"X.shape is {}\".format(X.shape))\n",
        "  \n",
        "  for i,image_file in enumerate(images) :\n",
        "    image = read_image(image_file)\n",
        "    X[i,:] = np.squeeze(image.reshape((ROWS, COLS, CHANNELS)))\n",
        "    if 'dog' in image_file.lower() :\n",
        "      y[i,0] = 1\n",
        "    elif 'cat' in image_file.lower() :\n",
        "      y[i,0] = 0\n",
        "    else : # for test data\n",
        "      y[i,0] = image_file.split('/')[-1].split('.')[0]\n",
        "      \n",
        "    if i%5000 == 0 :\n",
        "      print(\"Proceed {} of {}\".format(i, m))\n",
        "    \n",
        "  return X,y\n",
        "  X_train, y_train = prep_data(train_images)\n",
        "X_test, test_idx = prep_data(test_images)\n",
        "print(\"Train shape: {}\".format(X_train.shape))\n",
        "print(\"Test shape: {}\".format(X_test.shape))\n",
        "X, y = shuffle(X, y)\n",
        "\n",
        "classes = {0: 'cats',\n",
        "           1: 'dogs'}\n",
        "           X_train, X_val, y_train, y_val = train_test_split(X, y, test_size=0.2, random_state=1)\n",
        "\n",
        "print(\"Train shape: {}\".format(X_train.shape))\n",
        "print(\"Train label shape: {}\".format(y_train.shape))\n",
        "print(\"Validation shape: {}\".format(X_val.shape))\n",
        "print(\"Validation label shape: {}\".format(y_val.shape))\n",
        "y_train_one_hot = to_categorical(y_train)\n",
        "print(y_train_one_hot.shape)\n",
        "\n",
        "num_classes = y_train_one_hot.shape[1]\n",
        "print(num_classes)\n",
        "\n",
        "y_val_one_hot = to_categorical(y_val)\n",
        "print(y_val_one_hot.shape)\n",
        "def show_images(X, y, idx) :\n",
        "  image = X[idx]\n",
        "  #image = image.reshape((ROWS, COLS, CHANNELS))\n",
        "  plt.figure(figsize=(4,2))\n",
        "  plt.imshow(image)\n",
        "  plt.title(\"This is a {}\".format(classes[y[idx,0]]))\n",
        "  plt.show()\n",
        "  show_images(X_train, y_train, 0)\n",
        "X_train_norm = X_train / 255\n",
        "X_val_norm = X_val / 255"
      ],
      "execution_count": 2,
      "outputs": [
        {
          "output_type": "error",
          "ename": "IndentationError",
          "evalue": "ignored",
          "traceback": [
            "\u001b[0;36m  File \u001b[0;32m\"<ipython-input-2-942f2dfbaa71>\"\u001b[0;36m, line \u001b[0;32m38\u001b[0m\n\u001b[0;31m    m = len(images)\u001b[0m\n\u001b[0m                   ^\u001b[0m\n\u001b[0;31mIndentationError\u001b[0m\u001b[0;31m:\u001b[0m expected an indented block\n"
          ]
        }
      ]
    }
  ]
}